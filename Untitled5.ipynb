{
  "nbformat": 4,
  "nbformat_minor": 0,
  "metadata": {
    "colab": {
      "provenance": [],
      "authorship_tag": "ABX9TyMRhdMP2SVnd1zNEYGu9Nvr",
      "include_colab_link": true
    },
    "kernelspec": {
      "name": "python3",
      "display_name": "Python 3"
    },
    "language_info": {
      "name": "python"
    }
  },
  "cells": [
    {
      "cell_type": "markdown",
      "metadata": {
        "id": "view-in-github",
        "colab_type": "text"
      },
      "source": [
        "<a href=\"https://colab.research.google.com/github/oceanensley14/countdown-timer/blob/main/Untitled5.ipynb\" target=\"_parent\"><img src=\"https://colab.research.google.com/assets/colab-badge.svg\" alt=\"Open In Colab\"/></a>"
      ]
    },
    {
      "cell_type": "code",
      "execution_count": 17,
      "metadata": {
        "colab": {
          "base_uri": "https://localhost:8080/"
        },
        "id": "OVxOhqDm1DEv",
        "outputId": "37c1c434-985c-4457-dcda-47f2cc0adb8c"
      },
      "outputs": [
        {
          "output_type": "stream",
          "name": "stdout",
          "text": [
            "ITS OVERRRRRRRRRRRRRRRR!\n"
          ]
        }
      ],
      "source": [
        "from IPython.utils.path import link_or_copy\n",
        "import time as t\n",
        "from IPython.display import clear_output\n",
        "\n",
        "while True:\n",
        "  try:\n",
        "    minutes = int(input(\"Enter the number of minutes to count down: \"))\n",
        "    seconds = int(input(\"Enter the number of seconds to count down: \"))\n",
        "    if (seconds < 0 or seconds > 60):\n",
        "      print(\"Please only enter numbers above 0. Try again.\")\n",
        "    else:\n",
        "      break\n",
        "    if (minutes < 0):\n",
        "      print(\"Please only enter numbers above 0. Try again.\")\n",
        "    else:\n",
        "      break\n",
        "  except:\n",
        "    print(\"Please enter only integers. Try again.\")\n",
        "while minutes > -1:\n",
        "    clear_output()\n",
        "    timeformat = '{:02d}:{:02d}'.format(minutes, seconds)\n",
        "    print(\"Time left: \", timeformat)\n",
        "    seconds -= 1\n",
        "    t.sleep(1.5)\n",
        "    if seconds == -1:\n",
        "      minutes = minutes - 1\n",
        "      seconds = 59\n",
        "\n",
        "clear_output()\n",
        "print(\"ITS OVERRRRRRRRRRRRRRRR!\")"
      ]
    }
  ]
}